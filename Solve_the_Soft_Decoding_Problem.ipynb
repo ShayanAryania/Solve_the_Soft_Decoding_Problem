{
 "cells": [
  {
   "cell_type": "code",
   "execution_count": 13,
   "metadata": {},
   "outputs": [],
   "source": [
    "def Reconstruct_a_String_from_its_Burrows_Wheeler_Transform(data):\n",
    "    last_col = data\n",
    "    first_col = sorted(data)\n",
    "    length = len(data)\n",
    "    first = []\n",
    "    last = []\n",
    "    dict_1 = {}\n",
    "    dict_2 = {}\n",
    "    for i in range(length):\n",
    "        if first_col[i] in dict_1:\n",
    "            dict_1[first_col[i]] += 1\n",
    "        else:\n",
    "            dict_1[first_col[i]] = 1\n",
    "\n",
    "        first.append((first_col[i], dict_1[first_col[i]]))\n",
    "        if last_col[i] in dict_2:\n",
    "            dict_2[last_col[i]] += 1\n",
    "        else:\n",
    "            dict_2[last_col[i]] = 1\n",
    "\n",
    "        last.append((last_col[i],dict_2[last_col[i]]))\n",
    "\n",
    "    Ans = [first_col[0]]\n",
    "    index = 0\n",
    "    for i in range(length-1):\n",
    "        Ans.append(last_col[index])\n",
    "        index = first.index((Ans[-1], last[index][1]))\n",
    "\n",
    "    return \"\".join(Ans[::-1])"
   ]
  },
  {
   "cell_type": "code",
   "execution_count": 14,
   "metadata": {},
   "outputs": [],
   "source": [
    "with open(\"/Users/shayanaryania/Desktop/University/Rosalind/Reconstruct_a_String_from_its_Burrows-Wheeler_Transform/rosalind_ba9j.txt\", \"r\") as file:\n",
    "    Data = file.readline().strip()"
   ]
  },
  {
   "cell_type": "code",
   "execution_count": 15,
   "metadata": {},
   "outputs": [
    {
     "data": {
      "text/plain": [
       "'AACCACCCAGCCACAGTTGAGGGAACCATCCTGACGGGTCAAAGAGAATCACTTTGTTAGCAACACCGTCGATGGTCGGATTTGAATAGCTTTAGTTTGAAGAGCCTTTATATACATAAGCTTAGCGCCACTGCGCCGCCCACATCATTCTATTCTTTATTTCCAGCGCCTTTCCAGATTGAACCGTATCGGGCTTTCTGTTTTGGTAGCAAATTGCGTCAGCACCACAGTCGGACACACTAAGGCCGGACTGGAGATGGTCTCGACTTTGTCTCCCGGTTGGATGCAAGACTCTCCGGGCGTGAATTAAAGACCGTGACGAGTGACAAAAGTCCGGGTGGGTATGCCCATTAGGACCGGCGATCAGGAATGCTGAATTGACACCTAACCGCAACGGTCCGCTTTTACCTTTCTTTTGCTAGACGATGCGTCTCGTCTAGGAGTTTCGACCCTCAGGTTGGGTCTTTATGGATGAATCGGTTTCGAAAGCATGCACTAGGTTACTTGGTACAGGGCTAACTGAAAGCTGTCGTTCTGACCCATCCCAGACAGAAGTTATCTATGCCTCAGCGACTGGGAAGTAACTCCGTCGTAACGTAATAGACAACAAATGGCGTTCAAGTCGCGATGCCAGGAACGTCTGAACACACTAACTAGGTAAAATCAAAATAAGTAAGGGCACCTCACACCAAGCGTAGTCCGAGGCACACGGAAATGGTACTCAAACGGCTGCGTCCATATCAAGTCGCAGGCTTCCTATTTAACTCACGATGGTATCGAGACTGGAGTGTGGAACATGGGTGGCACTGAATCAAGGAAACAAGGATGTGTTACGGTGTTTGCGTGAAAATACGGTGCGATATTTATGAAGAAGAACATAAGAGCGTATCTGTAACTGTAATTACCTCTAGTGTGAGCGAAACGTAATTGGGGTATTTTAGGGCTGTTACCATCATTCGCAGGT$'"
      ]
     },
     "execution_count": 15,
     "metadata": {},
     "output_type": "execute_result"
    }
   ],
   "source": [
    "Reconstruct_a_String_from_its_Burrows_Wheeler_Transform(Data)"
   ]
  },
  {
   "cell_type": "code",
   "execution_count": null,
   "metadata": {},
   "outputs": [],
   "source": []
  }
 ],
 "metadata": {
  "kernelspec": {
   "display_name": "Python 3",
   "language": "python",
   "name": "python3"
  },
  "language_info": {
   "codemirror_mode": {
    "name": "ipython",
    "version": 3
   },
   "file_extension": ".py",
   "mimetype": "text/x-python",
   "name": "python",
   "nbconvert_exporter": "python",
   "pygments_lexer": "ipython3",
   "version": "3.11.4"
  }
 },
 "nbformat": 4,
 "nbformat_minor": 2
}
